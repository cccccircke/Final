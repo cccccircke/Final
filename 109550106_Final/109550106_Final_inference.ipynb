{
  "nbformat": 4,
  "nbformat_minor": 0,
  "metadata": {
    "colab": {
      "provenance": []
    },
    "kernelspec": {
      "name": "python3",
      "display_name": "Python 3"
    },
    "language_info": {
      "name": "python"
    },
    "accelerator": "GPU",
    "gpuClass": "standard"
  },
  "cells": [
    {
      "cell_type": "code",
      "execution_count": 51,
      "metadata": {
        "colab": {
          "base_uri": "https://localhost:8080/"
        },
        "id": "apWGzZT0Gf7p",
        "outputId": "c017a7a1-4493-44c8-b266-fe2060d8144a"
      },
      "outputs": [
        {
          "output_type": "stream",
          "name": "stdout",
          "text": [
            "Drive already mounted at /content/drive; to attempt to forcibly remount, call drive.mount(\"/content/drive\", force_remount=True).\n"
          ]
        }
      ],
      "source": [
        "from google.colab import drive\n",
        "drive.mount('/content/drive')"
      ]
    },
    {
      "cell_type": "code",
      "source": [
        "import pandas as pd\n",
        "import numpy as np\n",
        "import seaborn as sns\n",
        "import matplotlib.pyplot as plt\n",
        "import matplotlib.gridspec as grid_spec\n",
        "import plotly.graph_objects as go\n",
        "import lightgbm as lgbm  \n",
        "from sklearn.model_selection import StratifiedGroupKFold, StratifiedKFold, GroupKFold\n",
        "from sklearn.metrics import roc_auc_score\n",
        "from sklearn.preprocessing import StandardScaler,LabelEncoder\n",
        "from sklearn.impute import KNNImputer\n",
        "from sklearn import linear_model\n",
        "from sklearn.linear_model import HuberRegressor\n",
        "from sklearn.neighbors import KNeighborsClassifier\n",
        "from sklearn.calibration import CalibratedClassifierCV\n",
        "import joblib\n",
        "\n",
        "import warnings\n",
        "warnings.filterwarnings('ignore')"
      ],
      "metadata": {
        "id": "d1YgrfGUG1AX"
      },
      "execution_count": 52,
      "outputs": []
    },
    {
      "cell_type": "code",
      "source": [
        "df_train = pd.read_csv('/content/drive/MyDrive/tabular-playground-series-aug-2022/train.csv')# read data\n",
        "df_test = pd.read_csv('/content/drive/MyDrive/tabular-playground-series-aug-2022/test.csv')\n",
        "submission = pd.read_csv('/content/drive/MyDrive/tabular-playground-series-aug-2022/sample_submission.csv')\n",
        "\n"
      ],
      "metadata": {
        "id": "PQQ5WJmQG6cB"
      },
      "execution_count": 53,
      "outputs": []
    },
    {
      "cell_type": "code",
      "source": [
        "Z = df_train['failure']\n",
        "df_train.drop('failure',axis=1, inplace = True)#remove\"failure\"\n",
        "Data = pd.concat([df_train, df_test])#"
      ],
      "metadata": {
        "id": "Z-MZMYOHKrSf"
      },
      "execution_count": 54,
      "outputs": []
    },
    {
      "cell_type": "code",
      "source": [
        "Data['missing_3'] = Data['measurement_3'].isnull().astype(np.int16)#Use astype() data type to convert to np.int16\n",
        "Data['missing_5'] = Data['measurement_5'].isnull().astype(np.int16)"
      ],
      "metadata": {
        "id": "JSwAaRdzHU5r"
      },
      "execution_count": 55,
      "outputs": []
    },
    {
      "cell_type": "code",
      "source": [
        "def Corr(d,x):\n",
        "  #Correlation between two variables in data\n",
        "  return  np.absolute(d.corr()[f'{x}']).sort_values(ascending=False)\n",
        "def kk(t,c,m):\n",
        "  train = t[c+[m]].dropna(how='any')\n",
        "  test = t[(t[c].isnull().sum(axis=1)==0)&(t[m].isnull())]\n",
        "  return train,test\n"
      ],
      "metadata": {
        "id": "7t_N0RmHHbEb"
      },
      "execution_count": 56,
      "outputs": []
    },
    {
      "cell_type": "code",
      "source": [
        "\n",
        "Feature = [k for k in df_test.columns if k.startswith('measurement') or k=='loading']\n",
        "#Treat words with \"measurement\" and \"loading\" as Feature\n",
        "other = [other for other in df_test.columns if other.startswith('attribute')or other=='id']+ ['loading','product_code','missing_3','missing_5']\n",
        "s = []\n",
        "n =[]\n",
        "for x in range(3,18):  \n",
        "    corr =Corr(Data.drop(other, axis=1),f'measurement_{x}')\n",
        "    s.append(np.round(np.sum(corr[1:5]),5)) \n",
        "    # add the 5 first lines of the correlation \n",
        "    n.append(f'measurement_{x}')\n",
        "show = pd.DataFrame()\n",
        "show['columns'] = n\n",
        "show['correlation'] = s #most correlated\n",
        "show = show.sort_values(by = 'correlation',ascending=False).reset_index(drop = True)\n"
      ],
      "metadata": {
        "id": "WiO7DuT5HlY-"
      },
      "execution_count": 57,
      "outputs": []
    },
    {
      "cell_type": "code",
      "source": [
        "FullDict ={}\n",
        "for i in range(8):\n",
        "    next = show.iloc[i,0] \n",
        "    # select the next best correlated column \n",
        "    Fill ={}\n",
        "    for x in Data.product_code.unique() : \n",
        "      NextDic = {}\n",
        "      corr = Corr(Data[Data.product_code == x],next)\n",
        "      NextDic[next] = corr[1:5].index.tolist()\n",
        "      Fill[x] = NextDic[next]\n",
        "    FullDict[next] =Fill\n"
      ],
      "metadata": {
        "id": "mM54HTpFH1na"
      },
      "execution_count": 58,
      "outputs": []
    },
    {
      "cell_type": "code",
      "source": [
        "Feature = [k for k in Data.columns if k.startswith('measurement') or k=='loading']\n",
        "nulls = [col for col in df_train.columns if df_train[col].isnull().sum()!=0]\n",
        "for i in Data.product_code.unique():\n",
        "    TotalNa_filled = 0\n",
        "    for measure_col in list(FullDict.keys()):\n",
        "        model = HuberRegressor(epsilon=1.35, max_iter = 400)\n",
        "        t = Data[Data.product_code==i]\n",
        "        column = FullDict[measure_col][i]\n",
        "        ttrain,ttest= kk(t,column,measure_col)\n",
        "        model.fit(ttrain[column], ttrain[measure_col])\n",
        "        Data.loc[(Data.product_code==i)&(Data[column].isnull().sum(axis=1)==0)&(Data[measure_col].isnull()),measure_col] = model.predict(ttest[column])\n",
        "        TotalNa_filled += len(ttest)\n",
        "        \n",
        "    # others NA columns:\n",
        "    NA = Data.loc[Data[\"product_code\"] == i,nulls].isnull().sum().sum()\n",
        "    model1 = KNNImputer(n_neighbors=3)\n",
        "    Data.loc[Data.product_code==i,Feature] = model1.fit_transform(Data.loc[Data.product_code==i, Feature])\n",
        "    joblib.dump(model1, 'KNN_model')"
      ],
      "metadata": {
        "id": "vTD3XQXwIDEU"
      },
      "execution_count": 59,
      "outputs": []
    },
    {
      "cell_type": "code",
      "source": [
        "def scale(train_data, val_data, test_data, feats):\n",
        "    scaler = StandardScaler()\n",
        "    scaled_train = scaler.fit_transform(train_data[feats])\n",
        "    scaled_val = scaler.transform(val_data[feats])\n",
        "    scaled_test = scaler.transform(test_data[feats])\n",
        "    new_train = train_data.copy()\n",
        "    new_val = val_data.copy()\n",
        "    new_test = test_data.copy()\n",
        "    new_train[feats] = scaled_train\n",
        "    new_val[feats] = scaled_val\n",
        "    new_test[feats] = scaled_test\n",
        "    return new_train, new_val, new_test"
      ],
      "metadata": {
        "id": "trfF8ixeIgLx"
      },
      "execution_count": 60,
      "outputs": []
    },
    {
      "cell_type": "code",
      "source": [
        "LE= LabelEncoder()\n",
        "Data['attribute_1'] = LE.fit_transform(Data['attribute_1'])"
      ],
      "metadata": {
        "id": "jFgNKmmiIkHR"
      },
      "execution_count": 61,
      "outputs": []
    },
    {
      "cell_type": "code",
      "source": [
        "! pip install feature_engine\n",
        "from feature_engine.encoding import WoEEncoder"
      ],
      "metadata": {
        "colab": {
          "base_uri": "https://localhost:8080/"
        },
        "id": "ajp7zF8bKJOs",
        "outputId": "62c4733d-e5d8-42d6-aef8-707f90438620"
      },
      "execution_count": 62,
      "outputs": [
        {
          "output_type": "stream",
          "name": "stdout",
          "text": [
            "Looking in indexes: https://pypi.org/simple, https://us-python.pkg.dev/colab-wheels/public/simple/\n",
            "Requirement already satisfied: feature_engine in /usr/local/lib/python3.8/dist-packages (1.5.2)\n",
            "Requirement already satisfied: numpy>=1.18.2 in /usr/local/lib/python3.8/dist-packages (from feature_engine) (1.21.6)\n",
            "Requirement already satisfied: scipy>=1.4.1 in /usr/local/lib/python3.8/dist-packages (from feature_engine) (1.7.3)\n",
            "Requirement already satisfied: pandas>=1.0.3 in /usr/local/lib/python3.8/dist-packages (from feature_engine) (1.3.5)\n",
            "Requirement already satisfied: scikit-learn>=1.0.0 in /usr/local/lib/python3.8/dist-packages (from feature_engine) (1.0.2)\n",
            "Requirement already satisfied: statsmodels>=0.11.1 in /usr/local/lib/python3.8/dist-packages (from feature_engine) (0.12.2)\n",
            "Requirement already satisfied: python-dateutil>=2.7.3 in /usr/local/lib/python3.8/dist-packages (from pandas>=1.0.3->feature_engine) (2.8.2)\n",
            "Requirement already satisfied: pytz>=2017.3 in /usr/local/lib/python3.8/dist-packages (from pandas>=1.0.3->feature_engine) (2022.7)\n",
            "Requirement already satisfied: threadpoolctl>=2.0.0 in /usr/local/lib/python3.8/dist-packages (from scikit-learn>=1.0.0->feature_engine) (3.1.0)\n",
            "Requirement already satisfied: joblib>=0.11 in /usr/local/lib/python3.8/dist-packages (from scikit-learn>=1.0.0->feature_engine) (1.2.0)\n",
            "Requirement already satisfied: patsy>=0.5 in /usr/local/lib/python3.8/dist-packages (from statsmodels>=0.11.1->feature_engine) (0.5.3)\n",
            "Requirement already satisfied: six in /usr/local/lib/python3.8/dist-packages (from patsy>=0.5->statsmodels>=0.11.1->feature_engine) (1.15.0)\n"
          ]
        }
      ]
    },
    {
      "cell_type": "code",
      "source": [
        "df_train = Data.iloc[:df_train.shape[0],:]\n",
        "df_test = Data.iloc[df_train.shape[0]:,:]\n",
        "\n",
        "G = df_train.product_code\n",
        "X = df_train\n",
        "woe = WoEEncoder(variables=['attribute_0'])\n",
        "woe.fit(X, Z)\n",
        "w = woe.transform(X)\n",
        "test = woe.transform(df_test)"
      ],
      "metadata": {
        "id": "q852Po9ZIxfx"
      },
      "execution_count": 65,
      "outputs": []
    },
    {
      "cell_type": "code",
      "source": [
        "class Train3_Valid2():\n",
        "    def __init__(self):\n",
        "        self.name = \"Splitter with 2 product code in validation set\"\n",
        "        \n",
        "    def split(self, X: pd.DataFrame, _y=None, _groups=None):\n",
        "        indices = list(X.groupby(\"product_code\").indices.values())\n",
        "        for i in range(len(indices)):\n",
        "            for j in range(i + 1, len(indices)):\n",
        "                yield [np.concatenate([ix for k, ix in enumerate(indices) if k not in [i, j]]),\n",
        "                    np.concatenate([ix for k, ix in enumerate(indices) if k in [i, j]])]"
      ],
      "metadata": {
        "id": "58Vhejo_Laa7"
      },
      "execution_count": 66,
      "outputs": []
    },
    {
      "cell_type": "code",
      "source": [
        "\n",
        "select = ['loading','attribute_0','measurement_17','measurement_0',\n",
        "          'measurement_1','measurement_2','missing_3','missing_5',]"
      ],
      "metadata": {
        "id": "j5ikgUqHLe2n"
      },
      "execution_count": 67,
      "outputs": []
    },
    {
      "cell_type": "code",
      "source": [
        "import pickle\n",
        "with open('/content/drive/MyDrive/tabular-playground-series-aug-2022/x.pickle', 'rb') as f:\n",
        "    Model = pickle.load(f)\n",
        "final = np.zeros(len(test))\n",
        "cv = Train3_Valid2()\n",
        "kf = GroupKFold(n_splits=5)\n",
        "SPLIT = 5\n",
        "for fold_idx, (train_idx, val_idx) in enumerate(kf.split( w, Z, G)):# = train.product_code \n",
        "    x_train, x_val = w.iloc[train_idx], w.iloc[val_idx]\n",
        "    x_train, x_val, x_test = scale(x_train, x_val, test, select)\n",
        "    final += Model.predict_proba(x_test[select])[:, 1] / SPLIT\n",
        "submission['failure'] = final\n",
        "submission.to_csv(f\"./109550106.csv\", index=False)\n",
        "submission\n",
        "   "
      ],
      "metadata": {
        "colab": {
          "base_uri": "https://localhost:8080/",
          "height": 424
        },
        "id": "ShmwEIvyLiTN",
        "outputId": "0663629c-e5d3-4357-b18a-7ff8312fcaf6"
      },
      "execution_count": 69,
      "outputs": [
        {
          "output_type": "execute_result",
          "data": {
            "text/plain": [
              "          id   failure\n",
              "0      26570  0.201389\n",
              "1      26571  0.193210\n",
              "2      26572  0.198365\n",
              "3      26573  0.200756\n",
              "4      26574  0.240616\n",
              "...      ...       ...\n",
              "20770  47340  0.216162\n",
              "20771  47341  0.188960\n",
              "20772  47342  0.189176\n",
              "20773  47343  0.212924\n",
              "20774  47344  0.195496\n",
              "\n",
              "[20775 rows x 2 columns]"
            ],
            "text/html": [
              "\n",
              "  <div id=\"df-dbbf4c45-4a3a-410c-9370-74cbdd5a911e\">\n",
              "    <div class=\"colab-df-container\">\n",
              "      <div>\n",
              "<style scoped>\n",
              "    .dataframe tbody tr th:only-of-type {\n",
              "        vertical-align: middle;\n",
              "    }\n",
              "\n",
              "    .dataframe tbody tr th {\n",
              "        vertical-align: top;\n",
              "    }\n",
              "\n",
              "    .dataframe thead th {\n",
              "        text-align: right;\n",
              "    }\n",
              "</style>\n",
              "<table border=\"1\" class=\"dataframe\">\n",
              "  <thead>\n",
              "    <tr style=\"text-align: right;\">\n",
              "      <th></th>\n",
              "      <th>id</th>\n",
              "      <th>failure</th>\n",
              "    </tr>\n",
              "  </thead>\n",
              "  <tbody>\n",
              "    <tr>\n",
              "      <th>0</th>\n",
              "      <td>26570</td>\n",
              "      <td>0.201389</td>\n",
              "    </tr>\n",
              "    <tr>\n",
              "      <th>1</th>\n",
              "      <td>26571</td>\n",
              "      <td>0.193210</td>\n",
              "    </tr>\n",
              "    <tr>\n",
              "      <th>2</th>\n",
              "      <td>26572</td>\n",
              "      <td>0.198365</td>\n",
              "    </tr>\n",
              "    <tr>\n",
              "      <th>3</th>\n",
              "      <td>26573</td>\n",
              "      <td>0.200756</td>\n",
              "    </tr>\n",
              "    <tr>\n",
              "      <th>4</th>\n",
              "      <td>26574</td>\n",
              "      <td>0.240616</td>\n",
              "    </tr>\n",
              "    <tr>\n",
              "      <th>...</th>\n",
              "      <td>...</td>\n",
              "      <td>...</td>\n",
              "    </tr>\n",
              "    <tr>\n",
              "      <th>20770</th>\n",
              "      <td>47340</td>\n",
              "      <td>0.216162</td>\n",
              "    </tr>\n",
              "    <tr>\n",
              "      <th>20771</th>\n",
              "      <td>47341</td>\n",
              "      <td>0.188960</td>\n",
              "    </tr>\n",
              "    <tr>\n",
              "      <th>20772</th>\n",
              "      <td>47342</td>\n",
              "      <td>0.189176</td>\n",
              "    </tr>\n",
              "    <tr>\n",
              "      <th>20773</th>\n",
              "      <td>47343</td>\n",
              "      <td>0.212924</td>\n",
              "    </tr>\n",
              "    <tr>\n",
              "      <th>20774</th>\n",
              "      <td>47344</td>\n",
              "      <td>0.195496</td>\n",
              "    </tr>\n",
              "  </tbody>\n",
              "</table>\n",
              "<p>20775 rows × 2 columns</p>\n",
              "</div>\n",
              "      <button class=\"colab-df-convert\" onclick=\"convertToInteractive('df-dbbf4c45-4a3a-410c-9370-74cbdd5a911e')\"\n",
              "              title=\"Convert this dataframe to an interactive table.\"\n",
              "              style=\"display:none;\">\n",
              "        \n",
              "  <svg xmlns=\"http://www.w3.org/2000/svg\" height=\"24px\"viewBox=\"0 0 24 24\"\n",
              "       width=\"24px\">\n",
              "    <path d=\"M0 0h24v24H0V0z\" fill=\"none\"/>\n",
              "    <path d=\"M18.56 5.44l.94 2.06.94-2.06 2.06-.94-2.06-.94-.94-2.06-.94 2.06-2.06.94zm-11 1L8.5 8.5l.94-2.06 2.06-.94-2.06-.94L8.5 2.5l-.94 2.06-2.06.94zm10 10l.94 2.06.94-2.06 2.06-.94-2.06-.94-.94-2.06-.94 2.06-2.06.94z\"/><path d=\"M17.41 7.96l-1.37-1.37c-.4-.4-.92-.59-1.43-.59-.52 0-1.04.2-1.43.59L10.3 9.45l-7.72 7.72c-.78.78-.78 2.05 0 2.83L4 21.41c.39.39.9.59 1.41.59.51 0 1.02-.2 1.41-.59l7.78-7.78 2.81-2.81c.8-.78.8-2.07 0-2.86zM5.41 20L4 18.59l7.72-7.72 1.47 1.35L5.41 20z\"/>\n",
              "  </svg>\n",
              "      </button>\n",
              "      \n",
              "  <style>\n",
              "    .colab-df-container {\n",
              "      display:flex;\n",
              "      flex-wrap:wrap;\n",
              "      gap: 12px;\n",
              "    }\n",
              "\n",
              "    .colab-df-convert {\n",
              "      background-color: #E8F0FE;\n",
              "      border: none;\n",
              "      border-radius: 50%;\n",
              "      cursor: pointer;\n",
              "      display: none;\n",
              "      fill: #1967D2;\n",
              "      height: 32px;\n",
              "      padding: 0 0 0 0;\n",
              "      width: 32px;\n",
              "    }\n",
              "\n",
              "    .colab-df-convert:hover {\n",
              "      background-color: #E2EBFA;\n",
              "      box-shadow: 0px 1px 2px rgba(60, 64, 67, 0.3), 0px 1px 3px 1px rgba(60, 64, 67, 0.15);\n",
              "      fill: #174EA6;\n",
              "    }\n",
              "\n",
              "    [theme=dark] .colab-df-convert {\n",
              "      background-color: #3B4455;\n",
              "      fill: #D2E3FC;\n",
              "    }\n",
              "\n",
              "    [theme=dark] .colab-df-convert:hover {\n",
              "      background-color: #434B5C;\n",
              "      box-shadow: 0px 1px 3px 1px rgba(0, 0, 0, 0.15);\n",
              "      filter: drop-shadow(0px 1px 2px rgba(0, 0, 0, 0.3));\n",
              "      fill: #FFFFFF;\n",
              "    }\n",
              "  </style>\n",
              "\n",
              "      <script>\n",
              "        const buttonEl =\n",
              "          document.querySelector('#df-dbbf4c45-4a3a-410c-9370-74cbdd5a911e button.colab-df-convert');\n",
              "        buttonEl.style.display =\n",
              "          google.colab.kernel.accessAllowed ? 'block' : 'none';\n",
              "\n",
              "        async function convertToInteractive(key) {\n",
              "          const element = document.querySelector('#df-dbbf4c45-4a3a-410c-9370-74cbdd5a911e');\n",
              "          const dataTable =\n",
              "            await google.colab.kernel.invokeFunction('convertToInteractive',\n",
              "                                                     [key], {});\n",
              "          if (!dataTable) return;\n",
              "\n",
              "          const docLinkHtml = 'Like what you see? Visit the ' +\n",
              "            '<a target=\"_blank\" href=https://colab.research.google.com/notebooks/data_table.ipynb>data table notebook</a>'\n",
              "            + ' to learn more about interactive tables.';\n",
              "          element.innerHTML = '';\n",
              "          dataTable['output_type'] = 'display_data';\n",
              "          await google.colab.output.renderOutput(dataTable, element);\n",
              "          const docLink = document.createElement('div');\n",
              "          docLink.innerHTML = docLinkHtml;\n",
              "          element.appendChild(docLink);\n",
              "        }\n",
              "      </script>\n",
              "    </div>\n",
              "  </div>\n",
              "  "
            ]
          },
          "metadata": {},
          "execution_count": 69
        }
      ]
    }
  ]
}