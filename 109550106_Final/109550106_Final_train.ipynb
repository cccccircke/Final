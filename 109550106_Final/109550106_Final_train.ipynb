{
  "nbformat": 4,
  "nbformat_minor": 0,
  "metadata": {
    "colab": {
      "provenance": [],
      "toc_visible": true
    },
    "kernelspec": {
      "name": "python3",
      "display_name": "Python 3"
    },
    "language_info": {
      "name": "python"
    },
    "gpuClass": "standard",
    "accelerator": "GPU"
  },
  "cells": [
    {
      "cell_type": "code",
      "execution_count": 1,
      "metadata": {
        "colab": {
          "base_uri": "https://localhost:8080/"
        },
        "id": "g57xk6DmKuPn",
        "outputId": "dc0e3637-0a7c-4272-8163-174a11a16f85"
      },
      "outputs": [
        {
          "output_type": "stream",
          "name": "stdout",
          "text": [
            "Drive already mounted at /content/drive; to attempt to forcibly remount, call drive.mount(\"/content/drive\", force_remount=True).\n"
          ]
        }
      ],
      "source": [
        "from google.colab import drive\n",
        "drive.mount('/content/drive')"
      ]
    },
    {
      "cell_type": "code",
      "source": [
        "import pandas as pd\n",
        "import numpy as np\n",
        "import seaborn as sns\n",
        "import matplotlib.pyplot as plt\n",
        "import matplotlib.gridspec as grid_spec\n",
        "import plotly.graph_objects as go\n",
        "import lightgbm as lgbm  \n",
        "from sklearn.model_selection import StratifiedGroupKFold, StratifiedKFold, GroupKFold\n",
        "from sklearn.metrics import roc_auc_score\n",
        "from sklearn.preprocessing import StandardScaler,LabelEncoder\n",
        "from sklearn.impute import KNNImputer\n",
        "from sklearn import linear_model\n",
        "from sklearn.linear_model import HuberRegressor\n",
        "from sklearn.neighbors import KNeighborsClassifier\n",
        "from sklearn.calibration import CalibratedClassifierCV\n",
        "import joblib\n",
        "\n",
        "import warnings\n",
        "warnings.filterwarnings('ignore')"
      ],
      "metadata": {
        "id": "4N4-wab3Djto"
      },
      "execution_count": 2,
      "outputs": []
    },
    {
      "cell_type": "code",
      "source": [
        "df_train = pd.read_csv('/content/drive/MyDrive/tabular-playground-series-aug-2022/train.csv')# read data\n",
        "df_test = pd.read_csv('/content/drive/MyDrive/tabular-playground-series-aug-2022/test.csv')\n",
        "submission = pd.read_csv('/content/drive/MyDrive/tabular-playground-series-aug-2022/sample_submission.csv')\n",
        "df_train.describe()#Returns the statistical variables of this core data structure\n"
      ],
      "metadata": {
        "colab": {
          "base_uri": "https://localhost:8080/",
          "height": 394
        },
        "id": "bbtwt2sAWh58",
        "outputId": "301c8bbc-1ac4-4e74-e06b-269b0ba94223"
      },
      "execution_count": 3,
      "outputs": [
        {
          "output_type": "execute_result",
          "data": {
            "text/plain": [
              "                 id       loading   attribute_2   attribute_3  measurement_0  \\\n",
              "count  26570.000000  26320.000000  26570.000000  26570.000000   26570.000000   \n",
              "mean   13284.500000    127.826233      6.754046      7.240459       7.415883   \n",
              "std     7670.242662     39.030020      1.471852      1.456493       4.116690   \n",
              "min        0.000000     33.160000      5.000000      5.000000       0.000000   \n",
              "25%     6642.250000     99.987500      6.000000      6.000000       4.000000   \n",
              "50%    13284.500000    122.390000      6.000000      8.000000       7.000000   \n",
              "75%    19926.750000    149.152500      8.000000      8.000000      10.000000   \n",
              "max    26569.000000    385.860000      9.000000      9.000000      29.000000   \n",
              "\n",
              "       measurement_1  measurement_2  measurement_3  measurement_4  \\\n",
              "count   26570.000000   26570.000000   26189.000000   26032.000000   \n",
              "mean        8.232518       6.256568      17.791528      11.731988   \n",
              "std         4.199401       3.309109       1.001200       0.996085   \n",
              "min         0.000000       0.000000      13.968000       8.008000   \n",
              "25%         5.000000       4.000000      17.117000      11.051000   \n",
              "50%         8.000000       6.000000      17.787000      11.733000   \n",
              "75%        11.000000       8.000000      18.469000      12.410000   \n",
              "max        29.000000      24.000000      21.499000      16.484000   \n",
              "\n",
              "       measurement_5  ...  measurement_9  measurement_10  measurement_11  \\\n",
              "count   25894.000000  ...   25343.000000    25270.000000    25102.000000   \n",
              "mean       17.127804  ...      11.430725       16.117711       19.172085   \n",
              "std         0.996414  ...       0.999137        1.405978        1.520785   \n",
              "min        12.073000  ...       7.537000        9.323000       12.461000   \n",
              "25%        16.443000  ...      10.757000       15.209000       18.170000   \n",
              "50%        17.132000  ...      11.430000       16.127000       19.211500   \n",
              "75%        17.805000  ...      12.102000       17.025000       20.207000   \n",
              "max        21.425000  ...      15.412000       22.479000       25.640000   \n",
              "\n",
              "       measurement_12  measurement_13  measurement_14  measurement_15  \\\n",
              "count    24969.000000    24796.000000    24696.000000    24561.000000   \n",
              "mean        11.702464       15.652904       16.048444       14.995554   \n",
              "std          1.488838        1.155247        1.491923        1.549226   \n",
              "min          5.167000       10.890000        9.140000        9.104000   \n",
              "25%         10.703000       14.890000       15.057000       13.957000   \n",
              "50%         11.717000       15.628500       16.040000       14.969000   \n",
              "75%         12.709000       16.374000       17.082000       16.018000   \n",
              "max         17.663000       22.713000       22.303000       21.626000   \n",
              "\n",
              "       measurement_16  measurement_17       failure  \n",
              "count    24460.000000    24286.000000  26570.000000  \n",
              "mean        16.460727      701.269059      0.212608  \n",
              "std          1.708935      123.304161      0.409160  \n",
              "min          9.701000      196.787000      0.000000  \n",
              "25%         15.268000      618.961500      0.000000  \n",
              "50%         16.436000      701.024500      0.000000  \n",
              "75%         17.628000      784.090250      0.000000  \n",
              "max         24.094000     1312.794000      1.000000  \n",
              "\n",
              "[8 rows x 23 columns]"
            ],
            "text/html": [
              "\n",
              "  <div id=\"df-8c6125c3-bdcd-4f8a-ad81-5a19162e5116\">\n",
              "    <div class=\"colab-df-container\">\n",
              "      <div>\n",
              "<style scoped>\n",
              "    .dataframe tbody tr th:only-of-type {\n",
              "        vertical-align: middle;\n",
              "    }\n",
              "\n",
              "    .dataframe tbody tr th {\n",
              "        vertical-align: top;\n",
              "    }\n",
              "\n",
              "    .dataframe thead th {\n",
              "        text-align: right;\n",
              "    }\n",
              "</style>\n",
              "<table border=\"1\" class=\"dataframe\">\n",
              "  <thead>\n",
              "    <tr style=\"text-align: right;\">\n",
              "      <th></th>\n",
              "      <th>id</th>\n",
              "      <th>loading</th>\n",
              "      <th>attribute_2</th>\n",
              "      <th>attribute_3</th>\n",
              "      <th>measurement_0</th>\n",
              "      <th>measurement_1</th>\n",
              "      <th>measurement_2</th>\n",
              "      <th>measurement_3</th>\n",
              "      <th>measurement_4</th>\n",
              "      <th>measurement_5</th>\n",
              "      <th>...</th>\n",
              "      <th>measurement_9</th>\n",
              "      <th>measurement_10</th>\n",
              "      <th>measurement_11</th>\n",
              "      <th>measurement_12</th>\n",
              "      <th>measurement_13</th>\n",
              "      <th>measurement_14</th>\n",
              "      <th>measurement_15</th>\n",
              "      <th>measurement_16</th>\n",
              "      <th>measurement_17</th>\n",
              "      <th>failure</th>\n",
              "    </tr>\n",
              "  </thead>\n",
              "  <tbody>\n",
              "    <tr>\n",
              "      <th>count</th>\n",
              "      <td>26570.000000</td>\n",
              "      <td>26320.000000</td>\n",
              "      <td>26570.000000</td>\n",
              "      <td>26570.000000</td>\n",
              "      <td>26570.000000</td>\n",
              "      <td>26570.000000</td>\n",
              "      <td>26570.000000</td>\n",
              "      <td>26189.000000</td>\n",
              "      <td>26032.000000</td>\n",
              "      <td>25894.000000</td>\n",
              "      <td>...</td>\n",
              "      <td>25343.000000</td>\n",
              "      <td>25270.000000</td>\n",
              "      <td>25102.000000</td>\n",
              "      <td>24969.000000</td>\n",
              "      <td>24796.000000</td>\n",
              "      <td>24696.000000</td>\n",
              "      <td>24561.000000</td>\n",
              "      <td>24460.000000</td>\n",
              "      <td>24286.000000</td>\n",
              "      <td>26570.000000</td>\n",
              "    </tr>\n",
              "    <tr>\n",
              "      <th>mean</th>\n",
              "      <td>13284.500000</td>\n",
              "      <td>127.826233</td>\n",
              "      <td>6.754046</td>\n",
              "      <td>7.240459</td>\n",
              "      <td>7.415883</td>\n",
              "      <td>8.232518</td>\n",
              "      <td>6.256568</td>\n",
              "      <td>17.791528</td>\n",
              "      <td>11.731988</td>\n",
              "      <td>17.127804</td>\n",
              "      <td>...</td>\n",
              "      <td>11.430725</td>\n",
              "      <td>16.117711</td>\n",
              "      <td>19.172085</td>\n",
              "      <td>11.702464</td>\n",
              "      <td>15.652904</td>\n",
              "      <td>16.048444</td>\n",
              "      <td>14.995554</td>\n",
              "      <td>16.460727</td>\n",
              "      <td>701.269059</td>\n",
              "      <td>0.212608</td>\n",
              "    </tr>\n",
              "    <tr>\n",
              "      <th>std</th>\n",
              "      <td>7670.242662</td>\n",
              "      <td>39.030020</td>\n",
              "      <td>1.471852</td>\n",
              "      <td>1.456493</td>\n",
              "      <td>4.116690</td>\n",
              "      <td>4.199401</td>\n",
              "      <td>3.309109</td>\n",
              "      <td>1.001200</td>\n",
              "      <td>0.996085</td>\n",
              "      <td>0.996414</td>\n",
              "      <td>...</td>\n",
              "      <td>0.999137</td>\n",
              "      <td>1.405978</td>\n",
              "      <td>1.520785</td>\n",
              "      <td>1.488838</td>\n",
              "      <td>1.155247</td>\n",
              "      <td>1.491923</td>\n",
              "      <td>1.549226</td>\n",
              "      <td>1.708935</td>\n",
              "      <td>123.304161</td>\n",
              "      <td>0.409160</td>\n",
              "    </tr>\n",
              "    <tr>\n",
              "      <th>min</th>\n",
              "      <td>0.000000</td>\n",
              "      <td>33.160000</td>\n",
              "      <td>5.000000</td>\n",
              "      <td>5.000000</td>\n",
              "      <td>0.000000</td>\n",
              "      <td>0.000000</td>\n",
              "      <td>0.000000</td>\n",
              "      <td>13.968000</td>\n",
              "      <td>8.008000</td>\n",
              "      <td>12.073000</td>\n",
              "      <td>...</td>\n",
              "      <td>7.537000</td>\n",
              "      <td>9.323000</td>\n",
              "      <td>12.461000</td>\n",
              "      <td>5.167000</td>\n",
              "      <td>10.890000</td>\n",
              "      <td>9.140000</td>\n",
              "      <td>9.104000</td>\n",
              "      <td>9.701000</td>\n",
              "      <td>196.787000</td>\n",
              "      <td>0.000000</td>\n",
              "    </tr>\n",
              "    <tr>\n",
              "      <th>25%</th>\n",
              "      <td>6642.250000</td>\n",
              "      <td>99.987500</td>\n",
              "      <td>6.000000</td>\n",
              "      <td>6.000000</td>\n",
              "      <td>4.000000</td>\n",
              "      <td>5.000000</td>\n",
              "      <td>4.000000</td>\n",
              "      <td>17.117000</td>\n",
              "      <td>11.051000</td>\n",
              "      <td>16.443000</td>\n",
              "      <td>...</td>\n",
              "      <td>10.757000</td>\n",
              "      <td>15.209000</td>\n",
              "      <td>18.170000</td>\n",
              "      <td>10.703000</td>\n",
              "      <td>14.890000</td>\n",
              "      <td>15.057000</td>\n",
              "      <td>13.957000</td>\n",
              "      <td>15.268000</td>\n",
              "      <td>618.961500</td>\n",
              "      <td>0.000000</td>\n",
              "    </tr>\n",
              "    <tr>\n",
              "      <th>50%</th>\n",
              "      <td>13284.500000</td>\n",
              "      <td>122.390000</td>\n",
              "      <td>6.000000</td>\n",
              "      <td>8.000000</td>\n",
              "      <td>7.000000</td>\n",
              "      <td>8.000000</td>\n",
              "      <td>6.000000</td>\n",
              "      <td>17.787000</td>\n",
              "      <td>11.733000</td>\n",
              "      <td>17.132000</td>\n",
              "      <td>...</td>\n",
              "      <td>11.430000</td>\n",
              "      <td>16.127000</td>\n",
              "      <td>19.211500</td>\n",
              "      <td>11.717000</td>\n",
              "      <td>15.628500</td>\n",
              "      <td>16.040000</td>\n",
              "      <td>14.969000</td>\n",
              "      <td>16.436000</td>\n",
              "      <td>701.024500</td>\n",
              "      <td>0.000000</td>\n",
              "    </tr>\n",
              "    <tr>\n",
              "      <th>75%</th>\n",
              "      <td>19926.750000</td>\n",
              "      <td>149.152500</td>\n",
              "      <td>8.000000</td>\n",
              "      <td>8.000000</td>\n",
              "      <td>10.000000</td>\n",
              "      <td>11.000000</td>\n",
              "      <td>8.000000</td>\n",
              "      <td>18.469000</td>\n",
              "      <td>12.410000</td>\n",
              "      <td>17.805000</td>\n",
              "      <td>...</td>\n",
              "      <td>12.102000</td>\n",
              "      <td>17.025000</td>\n",
              "      <td>20.207000</td>\n",
              "      <td>12.709000</td>\n",
              "      <td>16.374000</td>\n",
              "      <td>17.082000</td>\n",
              "      <td>16.018000</td>\n",
              "      <td>17.628000</td>\n",
              "      <td>784.090250</td>\n",
              "      <td>0.000000</td>\n",
              "    </tr>\n",
              "    <tr>\n",
              "      <th>max</th>\n",
              "      <td>26569.000000</td>\n",
              "      <td>385.860000</td>\n",
              "      <td>9.000000</td>\n",
              "      <td>9.000000</td>\n",
              "      <td>29.000000</td>\n",
              "      <td>29.000000</td>\n",
              "      <td>24.000000</td>\n",
              "      <td>21.499000</td>\n",
              "      <td>16.484000</td>\n",
              "      <td>21.425000</td>\n",
              "      <td>...</td>\n",
              "      <td>15.412000</td>\n",
              "      <td>22.479000</td>\n",
              "      <td>25.640000</td>\n",
              "      <td>17.663000</td>\n",
              "      <td>22.713000</td>\n",
              "      <td>22.303000</td>\n",
              "      <td>21.626000</td>\n",
              "      <td>24.094000</td>\n",
              "      <td>1312.794000</td>\n",
              "      <td>1.000000</td>\n",
              "    </tr>\n",
              "  </tbody>\n",
              "</table>\n",
              "<p>8 rows × 23 columns</p>\n",
              "</div>\n",
              "      <button class=\"colab-df-convert\" onclick=\"convertToInteractive('df-8c6125c3-bdcd-4f8a-ad81-5a19162e5116')\"\n",
              "              title=\"Convert this dataframe to an interactive table.\"\n",
              "              style=\"display:none;\">\n",
              "        \n",
              "  <svg xmlns=\"http://www.w3.org/2000/svg\" height=\"24px\"viewBox=\"0 0 24 24\"\n",
              "       width=\"24px\">\n",
              "    <path d=\"M0 0h24v24H0V0z\" fill=\"none\"/>\n",
              "    <path d=\"M18.56 5.44l.94 2.06.94-2.06 2.06-.94-2.06-.94-.94-2.06-.94 2.06-2.06.94zm-11 1L8.5 8.5l.94-2.06 2.06-.94-2.06-.94L8.5 2.5l-.94 2.06-2.06.94zm10 10l.94 2.06.94-2.06 2.06-.94-2.06-.94-.94-2.06-.94 2.06-2.06.94z\"/><path d=\"M17.41 7.96l-1.37-1.37c-.4-.4-.92-.59-1.43-.59-.52 0-1.04.2-1.43.59L10.3 9.45l-7.72 7.72c-.78.78-.78 2.05 0 2.83L4 21.41c.39.39.9.59 1.41.59.51 0 1.02-.2 1.41-.59l7.78-7.78 2.81-2.81c.8-.78.8-2.07 0-2.86zM5.41 20L4 18.59l7.72-7.72 1.47 1.35L5.41 20z\"/>\n",
              "  </svg>\n",
              "      </button>\n",
              "      \n",
              "  <style>\n",
              "    .colab-df-container {\n",
              "      display:flex;\n",
              "      flex-wrap:wrap;\n",
              "      gap: 12px;\n",
              "    }\n",
              "\n",
              "    .colab-df-convert {\n",
              "      background-color: #E8F0FE;\n",
              "      border: none;\n",
              "      border-radius: 50%;\n",
              "      cursor: pointer;\n",
              "      display: none;\n",
              "      fill: #1967D2;\n",
              "      height: 32px;\n",
              "      padding: 0 0 0 0;\n",
              "      width: 32px;\n",
              "    }\n",
              "\n",
              "    .colab-df-convert:hover {\n",
              "      background-color: #E2EBFA;\n",
              "      box-shadow: 0px 1px 2px rgba(60, 64, 67, 0.3), 0px 1px 3px 1px rgba(60, 64, 67, 0.15);\n",
              "      fill: #174EA6;\n",
              "    }\n",
              "\n",
              "    [theme=dark] .colab-df-convert {\n",
              "      background-color: #3B4455;\n",
              "      fill: #D2E3FC;\n",
              "    }\n",
              "\n",
              "    [theme=dark] .colab-df-convert:hover {\n",
              "      background-color: #434B5C;\n",
              "      box-shadow: 0px 1px 3px 1px rgba(0, 0, 0, 0.15);\n",
              "      filter: drop-shadow(0px 1px 2px rgba(0, 0, 0, 0.3));\n",
              "      fill: #FFFFFF;\n",
              "    }\n",
              "  </style>\n",
              "\n",
              "      <script>\n",
              "        const buttonEl =\n",
              "          document.querySelector('#df-8c6125c3-bdcd-4f8a-ad81-5a19162e5116 button.colab-df-convert');\n",
              "        buttonEl.style.display =\n",
              "          google.colab.kernel.accessAllowed ? 'block' : 'none';\n",
              "\n",
              "        async function convertToInteractive(key) {\n",
              "          const element = document.querySelector('#df-8c6125c3-bdcd-4f8a-ad81-5a19162e5116');\n",
              "          const dataTable =\n",
              "            await google.colab.kernel.invokeFunction('convertToInteractive',\n",
              "                                                     [key], {});\n",
              "          if (!dataTable) return;\n",
              "\n",
              "          const docLinkHtml = 'Like what you see? Visit the ' +\n",
              "            '<a target=\"_blank\" href=https://colab.research.google.com/notebooks/data_table.ipynb>data table notebook</a>'\n",
              "            + ' to learn more about interactive tables.';\n",
              "          element.innerHTML = '';\n",
              "          dataTable['output_type'] = 'display_data';\n",
              "          await google.colab.output.renderOutput(dataTable, element);\n",
              "          const docLink = document.createElement('div');\n",
              "          docLink.innerHTML = docLinkHtml;\n",
              "          element.appendChild(docLink);\n",
              "        }\n",
              "      </script>\n",
              "    </div>\n",
              "  </div>\n",
              "  "
            ]
          },
          "metadata": {},
          "execution_count": 3
        }
      ]
    },
    {
      "cell_type": "code",
      "source": [
        "target_class = pd.DataFrame({'count': df_train.failure.value_counts(), 'percentage': df_train['failure'].value_counts() / df_train.shape[0] * 100})\n",
        "target_class#Observe the ratio of 1 and 0"
      ],
      "metadata": {
        "colab": {
          "base_uri": "https://localhost:8080/",
          "height": 112
        },
        "id": "on4cK_HvbVkG",
        "outputId": "2d33e986-2149-4948-bd7f-eb62b8688e7f"
      },
      "execution_count": 140,
      "outputs": [
        {
          "output_type": "execute_result",
          "data": {
            "text/plain": [
              "   count  percentage\n",
              "0  20921    78.73918\n",
              "1   5649    21.26082"
            ],
            "text/html": [
              "\n",
              "  <div id=\"df-27d163d4-4a18-427a-8d9f-1a185e858f5f\">\n",
              "    <div class=\"colab-df-container\">\n",
              "      <div>\n",
              "<style scoped>\n",
              "    .dataframe tbody tr th:only-of-type {\n",
              "        vertical-align: middle;\n",
              "    }\n",
              "\n",
              "    .dataframe tbody tr th {\n",
              "        vertical-align: top;\n",
              "    }\n",
              "\n",
              "    .dataframe thead th {\n",
              "        text-align: right;\n",
              "    }\n",
              "</style>\n",
              "<table border=\"1\" class=\"dataframe\">\n",
              "  <thead>\n",
              "    <tr style=\"text-align: right;\">\n",
              "      <th></th>\n",
              "      <th>count</th>\n",
              "      <th>percentage</th>\n",
              "    </tr>\n",
              "  </thead>\n",
              "  <tbody>\n",
              "    <tr>\n",
              "      <th>0</th>\n",
              "      <td>20921</td>\n",
              "      <td>78.73918</td>\n",
              "    </tr>\n",
              "    <tr>\n",
              "      <th>1</th>\n",
              "      <td>5649</td>\n",
              "      <td>21.26082</td>\n",
              "    </tr>\n",
              "  </tbody>\n",
              "</table>\n",
              "</div>\n",
              "      <button class=\"colab-df-convert\" onclick=\"convertToInteractive('df-27d163d4-4a18-427a-8d9f-1a185e858f5f')\"\n",
              "              title=\"Convert this dataframe to an interactive table.\"\n",
              "              style=\"display:none;\">\n",
              "        \n",
              "  <svg xmlns=\"http://www.w3.org/2000/svg\" height=\"24px\"viewBox=\"0 0 24 24\"\n",
              "       width=\"24px\">\n",
              "    <path d=\"M0 0h24v24H0V0z\" fill=\"none\"/>\n",
              "    <path d=\"M18.56 5.44l.94 2.06.94-2.06 2.06-.94-2.06-.94-.94-2.06-.94 2.06-2.06.94zm-11 1L8.5 8.5l.94-2.06 2.06-.94-2.06-.94L8.5 2.5l-.94 2.06-2.06.94zm10 10l.94 2.06.94-2.06 2.06-.94-2.06-.94-.94-2.06-.94 2.06-2.06.94z\"/><path d=\"M17.41 7.96l-1.37-1.37c-.4-.4-.92-.59-1.43-.59-.52 0-1.04.2-1.43.59L10.3 9.45l-7.72 7.72c-.78.78-.78 2.05 0 2.83L4 21.41c.39.39.9.59 1.41.59.51 0 1.02-.2 1.41-.59l7.78-7.78 2.81-2.81c.8-.78.8-2.07 0-2.86zM5.41 20L4 18.59l7.72-7.72 1.47 1.35L5.41 20z\"/>\n",
              "  </svg>\n",
              "      </button>\n",
              "      \n",
              "  <style>\n",
              "    .colab-df-container {\n",
              "      display:flex;\n",
              "      flex-wrap:wrap;\n",
              "      gap: 12px;\n",
              "    }\n",
              "\n",
              "    .colab-df-convert {\n",
              "      background-color: #E8F0FE;\n",
              "      border: none;\n",
              "      border-radius: 50%;\n",
              "      cursor: pointer;\n",
              "      display: none;\n",
              "      fill: #1967D2;\n",
              "      height: 32px;\n",
              "      padding: 0 0 0 0;\n",
              "      width: 32px;\n",
              "    }\n",
              "\n",
              "    .colab-df-convert:hover {\n",
              "      background-color: #E2EBFA;\n",
              "      box-shadow: 0px 1px 2px rgba(60, 64, 67, 0.3), 0px 1px 3px 1px rgba(60, 64, 67, 0.15);\n",
              "      fill: #174EA6;\n",
              "    }\n",
              "\n",
              "    [theme=dark] .colab-df-convert {\n",
              "      background-color: #3B4455;\n",
              "      fill: #D2E3FC;\n",
              "    }\n",
              "\n",
              "    [theme=dark] .colab-df-convert:hover {\n",
              "      background-color: #434B5C;\n",
              "      box-shadow: 0px 1px 3px 1px rgba(0, 0, 0, 0.15);\n",
              "      filter: drop-shadow(0px 1px 2px rgba(0, 0, 0, 0.3));\n",
              "      fill: #FFFFFF;\n",
              "    }\n",
              "  </style>\n",
              "\n",
              "      <script>\n",
              "        const buttonEl =\n",
              "          document.querySelector('#df-27d163d4-4a18-427a-8d9f-1a185e858f5f button.colab-df-convert');\n",
              "        buttonEl.style.display =\n",
              "          google.colab.kernel.accessAllowed ? 'block' : 'none';\n",
              "\n",
              "        async function convertToInteractive(key) {\n",
              "          const element = document.querySelector('#df-27d163d4-4a18-427a-8d9f-1a185e858f5f');\n",
              "          const dataTable =\n",
              "            await google.colab.kernel.invokeFunction('convertToInteractive',\n",
              "                                                     [key], {});\n",
              "          if (!dataTable) return;\n",
              "\n",
              "          const docLinkHtml = 'Like what you see? Visit the ' +\n",
              "            '<a target=\"_blank\" href=https://colab.research.google.com/notebooks/data_table.ipynb>data table notebook</a>'\n",
              "            + ' to learn more about interactive tables.';\n",
              "          element.innerHTML = '';\n",
              "          dataTable['output_type'] = 'display_data';\n",
              "          await google.colab.output.renderOutput(dataTable, element);\n",
              "          const docLink = document.createElement('div');\n",
              "          docLink.innerHTML = docLinkHtml;\n",
              "          element.appendChild(docLink);\n",
              "        }\n",
              "      </script>\n",
              "    </div>\n",
              "  </div>\n",
              "  "
            ]
          },
          "metadata": {},
          "execution_count": 140
        }
      ]
    },
    {
      "cell_type": "code",
      "source": [
        "Z = df_train['failure']\n",
        "df_train.drop('failure',axis=1, inplace = True)#remove\"failure\"\n",
        "Data = pd.concat([df_train, df_test])# use concat to merge\n"
      ],
      "metadata": {
        "id": "fy_7kUzLa_v3"
      },
      "execution_count": 4,
      "outputs": []
    },
    {
      "cell_type": "code",
      "source": [
        "df_train.isna().sum()#Count the number of occurrences of NaN in a column of Pandas Dataframe\n"
      ],
      "metadata": {
        "colab": {
          "base_uri": "https://localhost:8080/"
        },
        "id": "pHs4j-LcD6cz",
        "outputId": "84ed398a-9872-478a-ae45-9174c483488f"
      },
      "execution_count": 142,
      "outputs": [
        {
          "output_type": "execute_result",
          "data": {
            "text/plain": [
              "id                   0\n",
              "product_code         0\n",
              "loading            250\n",
              "attribute_0          0\n",
              "attribute_1          0\n",
              "attribute_2          0\n",
              "attribute_3          0\n",
              "measurement_0        0\n",
              "measurement_1        0\n",
              "measurement_2        0\n",
              "measurement_3      381\n",
              "measurement_4      538\n",
              "measurement_5      676\n",
              "measurement_6      796\n",
              "measurement_7      937\n",
              "measurement_8     1048\n",
              "measurement_9     1227\n",
              "measurement_10    1300\n",
              "measurement_11    1468\n",
              "measurement_12    1601\n",
              "measurement_13    1774\n",
              "measurement_14    1874\n",
              "measurement_15    2009\n",
              "measurement_16    2110\n",
              "measurement_17    2284\n",
              "dtype: int64"
            ]
          },
          "metadata": {},
          "execution_count": 142
        }
      ]
    },
    {
      "cell_type": "code",
      "source": [
        "df_test.isna().sum()#Count the number of occurrences of NaN in a column of Pandas Dataframe"
      ],
      "metadata": {
        "colab": {
          "base_uri": "https://localhost:8080/"
        },
        "id": "d63LoBzKOwKw",
        "outputId": "cd326b2b-1454-48db-b362-61cca2242e11"
      },
      "execution_count": 7,
      "outputs": [
        {
          "output_type": "execute_result",
          "data": {
            "text/plain": [
              "id                   0\n",
              "product_code         0\n",
              "loading            223\n",
              "attribute_0          0\n",
              "attribute_1          0\n",
              "attribute_2          0\n",
              "attribute_3          0\n",
              "measurement_0        0\n",
              "measurement_1        0\n",
              "measurement_2        0\n",
              "measurement_3      329\n",
              "measurement_4      409\n",
              "measurement_5      508\n",
              "measurement_6      624\n",
              "measurement_7      720\n",
              "measurement_8      846\n",
              "measurement_9      904\n",
              "measurement_10    1067\n",
              "measurement_11    1136\n",
              "measurement_12    1240\n",
              "measurement_13    1303\n",
              "measurement_14    1440\n",
              "measurement_15    1542\n",
              "measurement_16    1678\n",
              "measurement_17    1740\n",
              "dtype: int64"
            ]
          },
          "metadata": {},
          "execution_count": 7
        }
      ]
    },
    {
      "cell_type": "code",
      "source": [
        "! pip install feature_engine\n",
        "from feature_engine.encoding import WoEEncoder\n",
        "#The WoEEncoder() replaces categories by the weight of evidence"
      ],
      "metadata": {
        "colab": {
          "base_uri": "https://localhost:8080/"
        },
        "id": "jbd1zG5YXzAT",
        "outputId": "9f87ab9e-91fd-41ab-d8af-14de643af7c3"
      },
      "execution_count": 5,
      "outputs": [
        {
          "output_type": "stream",
          "name": "stdout",
          "text": [
            "Looking in indexes: https://pypi.org/simple, https://us-python.pkg.dev/colab-wheels/public/simple/\n",
            "Collecting feature_engine\n",
            "  Downloading feature_engine-1.5.2-py2.py3-none-any.whl (290 kB)\n",
            "\u001b[2K     \u001b[90m━━━━━━━━━━━━━━━━━━━━━━━━━━━━━━━━━━━━━━━\u001b[0m \u001b[32m290.0/290.0 KB\u001b[0m \u001b[31m7.5 MB/s\u001b[0m eta \u001b[36m0:00:00\u001b[0m\n",
            "\u001b[?25hRequirement already satisfied: scikit-learn>=1.0.0 in /usr/local/lib/python3.8/dist-packages (from feature_engine) (1.0.2)\n",
            "Requirement already satisfied: statsmodels>=0.11.1 in /usr/local/lib/python3.8/dist-packages (from feature_engine) (0.12.2)\n",
            "Requirement already satisfied: pandas>=1.0.3 in /usr/local/lib/python3.8/dist-packages (from feature_engine) (1.3.5)\n",
            "Requirement already satisfied: scipy>=1.4.1 in /usr/local/lib/python3.8/dist-packages (from feature_engine) (1.7.3)\n",
            "Requirement already satisfied: numpy>=1.18.2 in /usr/local/lib/python3.8/dist-packages (from feature_engine) (1.21.6)\n",
            "Requirement already satisfied: pytz>=2017.3 in /usr/local/lib/python3.8/dist-packages (from pandas>=1.0.3->feature_engine) (2022.7)\n",
            "Requirement already satisfied: python-dateutil>=2.7.3 in /usr/local/lib/python3.8/dist-packages (from pandas>=1.0.3->feature_engine) (2.8.2)\n",
            "Requirement already satisfied: threadpoolctl>=2.0.0 in /usr/local/lib/python3.8/dist-packages (from scikit-learn>=1.0.0->feature_engine) (3.1.0)\n",
            "Requirement already satisfied: joblib>=0.11 in /usr/local/lib/python3.8/dist-packages (from scikit-learn>=1.0.0->feature_engine) (1.2.0)\n",
            "Requirement already satisfied: patsy>=0.5 in /usr/local/lib/python3.8/dist-packages (from statsmodels>=0.11.1->feature_engine) (0.5.3)\n",
            "Requirement already satisfied: six in /usr/local/lib/python3.8/dist-packages (from patsy>=0.5->statsmodels>=0.11.1->feature_engine) (1.15.0)\n",
            "Installing collected packages: feature_engine\n",
            "Successfully installed feature_engine-1.5.2\n"
          ]
        }
      ]
    },
    {
      "cell_type": "code",
      "source": [
        "Data['missing_3'] = Data['measurement_3'].isnull().astype(np.int16)#Use astype() data type to convert to np.int16\n",
        "Data['missing_5'] = Data['measurement_5'].isnull().astype(np.int16)\n",
        "'''\n",
        "the conditional failure rates of missing measurement_3 and missing measurement_5 deviate significantly from the average failure rate\n",
        "e can use the features missing_3 and missing_5 in our models\n",
        "'''"
      ],
      "metadata": {
        "colab": {
          "base_uri": "https://localhost:8080/",
          "height": 54
        },
        "id": "OFQoCtqBD1M7",
        "outputId": "883f4a39-95b9-4827-c53a-5653c30a9884"
      },
      "execution_count": 6,
      "outputs": [
        {
          "output_type": "execute_result",
          "data": {
            "text/plain": [
              "'\\nthe conditional failure rates of missing measurement_3 and missing measurement_5 deviate significantly from the average failure rate\\ne can use the features missing_3 and missing_5 in our models\\n'"
            ],
            "application/vnd.google.colaboratory.intrinsic+json": {
              "type": "string"
            }
          },
          "metadata": {},
          "execution_count": 6
        }
      ]
    },
    {
      "cell_type": "code",
      "source": [
        "\n",
        "def Corr(d,x):\n",
        "  #Correlation between two variables in data\n",
        "  return  np.absolute(d.corr()[f'{x}']).sort_values(ascending=False)\n",
        "def kk(t,c,m):\n",
        "  train = t[c+[m]].dropna(how='any')\n",
        "  test = t[(t[c].isnull().sum(axis=1)==0)&(t[m].isnull())]\n",
        "  return train,test"
      ],
      "metadata": {
        "id": "7AsLPqU5g2ZT"
      },
      "execution_count": 7,
      "outputs": []
    },
    {
      "cell_type": "code",
      "source": [
        "\n",
        "Feature = [k for k in df_test.columns if k.startswith('measurement') or k=='loading']\n",
        "#Treat words with \"measurement\" and \"loading\" as Feature\n",
        "FullDict ={}\n",
        "other = [other for other in df_test.columns if other.startswith('attribute')or other=='id']+ ['loading','product_code','missing_3','missing_5']\n",
        "s = []\n",
        "n =[]\n",
        "for x in range(3,18):  \n",
        "    corr =Corr(Data.drop(other, axis=1),f'measurement_{x}')\n",
        "    s.append(np.round(np.sum(corr[1:5]),5)) \n",
        "    # add the 5 first lines of the correlation \n",
        "    n.append(f'measurement_{x}')\n",
        "show = pd.DataFrame()\n",
        "show['columns'] = n\n",
        "show['correlation'] = s #most correlated\n",
        "show = show.sort_values(by = 'correlation',ascending=False).reset_index(drop = True)\n",
        "\n"
      ],
      "metadata": {
        "id": "Pb5IGU6oGUWc"
      },
      "execution_count": 8,
      "outputs": []
    },
    {
      "cell_type": "code",
      "source": [
        "for i in range(8):\n",
        "    next = show.iloc[i,0] \n",
        "    # select the next best correlated column \n",
        "    Fill ={}\n",
        "    for x in Data.product_code.unique() : \n",
        "      NextDic = {}\n",
        "      corr = Corr(Data[Data.product_code == x],next)\n",
        "      NextDic[next] = corr[1:5].index.tolist()\n",
        "      Fill[x] = NextDic[next]\n",
        "    FullDict[next] =Fill\n"
      ],
      "metadata": {
        "id": "RkzxeesqPEdq"
      },
      "execution_count": 9,
      "outputs": []
    },
    {
      "cell_type": "code",
      "source": [
        "Feature = [k for k in Data.columns if k.startswith('measurement') or k=='loading']\n",
        "nulls = [col for col in df_train.columns if df_train[col].isnull().sum()!=0]\n",
        "for i in Data.product_code.unique():\n",
        "    TotalNa_filled = 0\n",
        "    for measure_col in list(FullDict.keys()):\n",
        "        model = HuberRegressor(epsilon=1.35, max_iter = 400)\n",
        "        t = Data[Data.product_code==i]\n",
        "        column = FullDict[measure_col][i]\n",
        "        ttrain,ttest= kk(t,column,measure_col)\n",
        "        model.fit(ttrain[column], ttrain[measure_col])\n",
        "        Data.loc[(Data.product_code==i)&(Data[column].isnull().sum(axis=1)==0)&(Data[measure_col].isnull()),measure_col] = model.predict(ttest[column])\n",
        "        TotalNa_filled += len(ttest)\n",
        "    NA = Data.loc[Data[\"product_code\"] == i,nulls].isnull().sum().sum()\n",
        "    model1 = KNNImputer(n_neighbors=3)\n",
        "    Data.loc[Data.product_code==i,Feature] = model1.fit_transform(Data.loc[Data.product_code==i, Feature])\n",
        "    joblib.dump(model1, 'KNN_model')"
      ],
      "metadata": {
        "id": "ZuhexLgprCYs"
      },
      "execution_count": 10,
      "outputs": []
    },
    {
      "cell_type": "code",
      "source": [
        "def scale(train_data, val_data, test_data, feats):\n",
        "    scaler = StandardScaler()\n",
        "    scaled_train = scaler.fit_transform(train_data[feats])\n",
        "    scaled_val = scaler.transform(val_data[feats])\n",
        "    scaled_test = scaler.transform(test_data[feats])\n",
        "    new_train = train_data.copy()\n",
        "    new_val = val_data.copy()\n",
        "    new_test = test_data.copy()\n",
        "    new_train[feats] = scaled_train\n",
        "    new_val[feats] = scaled_val\n",
        "    new_test[feats] = scaled_test\n",
        "    return new_train, new_val, new_test"
      ],
      "metadata": {
        "id": "Y4vdCOIbGQ_f"
      },
      "execution_count": 11,
      "outputs": []
    },
    {
      "cell_type": "code",
      "source": [
        "LE= LabelEncoder()\n",
        "Data['attribute_1'] = LE.fit_transform(Data['attribute_1'])"
      ],
      "metadata": {
        "id": "yX5mpAcVDeyX"
      },
      "execution_count": 12,
      "outputs": []
    },
    {
      "cell_type": "code",
      "source": [
        "df_train = Data.iloc[:df_train.shape[0],:]\n",
        "df_test = Data.iloc[df_train.shape[0]:,:]\n",
        "print(df_train.shape, df_test.shape)\n",
        "\n",
        "G = df_train.product_code\n",
        "X = df_train\n"
      ],
      "metadata": {
        "colab": {
          "base_uri": "https://localhost:8080/"
        },
        "id": "jGbxea26PSUL",
        "outputId": "1e2dc692-5e88-45dd-84f8-7ec257292baf"
      },
      "execution_count": 13,
      "outputs": [
        {
          "output_type": "stream",
          "name": "stdout",
          "text": [
            "(26570, 27) (20775, 27)\n"
          ]
        }
      ]
    },
    {
      "cell_type": "code",
      "source": [
        "woe = WoEEncoder(variables=['attribute_0'])\n",
        "woe.fit(X, Z)\n",
        "w = woe.transform(X)\n",
        "test = woe.transform(df_test)"
      ],
      "metadata": {
        "id": "8TJEbe6XPUFC"
      },
      "execution_count": 14,
      "outputs": []
    },
    {
      "cell_type": "code",
      "source": [
        "class Train3_Valid2():\n",
        "    def __init__(self):\n",
        "        self.name = \"Splitter with 2 product code in validation set\"\n",
        "        \n",
        "    def split(self, X: pd.DataFrame, _y=None, _groups=None):\n",
        "        indices = list(X.groupby(\"product_code\").indices.values())\n",
        "        for i in range(len(indices)):\n",
        "            for j in range(i + 1, len(indices)):\n",
        "                yield [np.concatenate([ix for k, ix in enumerate(indices) if k not in [i, j]]),\n",
        "                    np.concatenate([ix for k, ix in enumerate(indices) if k in [i, j]])]"
      ],
      "metadata": {
        "id": "BCz4DI1xPXjL"
      },
      "execution_count": 15,
      "outputs": []
    },
    {
      "cell_type": "code",
      "source": [
        "\n",
        "select = ['loading','attribute_0','measurement_17','measurement_0',\n",
        "          'measurement_1','measurement_2','missing_3','missing_5',]"
      ],
      "metadata": {
        "id": "MeH8DsKzPi9m"
      },
      "execution_count": 16,
      "outputs": []
    },
    {
      "cell_type": "code",
      "source": [
        "import pickle\n",
        "lr_test = np.zeros(len(test))\n",
        "cv = Train3_Valid2()\n",
        "kf = GroupKFold(n_splits=5)\n",
        "SPLIT = 5\n",
        "lr_oof = np.zeros(len(df_train))\n",
        "lr_test = np.zeros(len(df_test))\n",
        "lr_auc = 0\n",
        "importance_list = []\n",
        "for fold_idx, (train_idx, val_idx) in enumerate(kf.split( w, Z, G)):# = train.product_code \n",
        "    x_train, x_val = w.iloc[train_idx], w.iloc[val_idx]\n",
        "    y_train, y_val = Z.iloc[train_idx], Z.iloc[val_idx]\n",
        "    x_train, x_val, x_test = scale(x_train, x_val, test, select)\n",
        "\n",
        "    model = linear_model.LogisticRegression(max_iter=200, C=0.0001, penalty='l2', solver='newton-cg')\n",
        "    model.fit(x_train[select], y_train)\n",
        "\n",
        "with open('./x.pickle', 'wb') as f:\n",
        "    pickle.dump(model, f)\n",
        "   \n"
      ],
      "metadata": {
        "id": "fvXBiegCyLYj"
      },
      "execution_count": 18,
      "outputs": []
    },
    {
      "cell_type": "code",
      "source": [],
      "metadata": {
        "id": "6kgJ4v9eB_5F"
      },
      "execution_count": null,
      "outputs": []
    }
  ]
}